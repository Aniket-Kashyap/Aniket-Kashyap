{
 "cells": [
  {
   "cell_type": "markdown",
   "metadata": {},
   "source": [
    "<center>\n",
    "    <img src=\"https://cf-courses-data.s3.us.cloud-object-storage.appdomain.cloud/IBMDeveloperSkillsNetwork-DS0105EN-SkillsNetwork/labs/Module2/images/SN_web_lightmode.png\" width=\"300\" alt=\"cognitiveclass.ai logo\">\n",
    "</center>\n"
   ]
  },
  {
   "cell_type": "markdown",
   "metadata": {},
   "source": [
    "#### Add your code below following the instructions given in the course\n"
   ]
  },
  {
   "cell_type": "markdown",
   "metadata": {},
   "source": [
    "# Data Science Tools and Ecosystem"
   ]
  },
  {
   "cell_type": "markdown",
   "metadata": {},
   "source": [
    "# Data Science Tools and Ecosystem"
   ]
  },
  {
   "cell_type": "markdown",
   "metadata": {},
   "source": [
    "In this notebook, Data Science Tools and Ecosystem are summarized. This comprehensive guide aims to provide an overview of the various tools, frameworks, and technologies commonly used in data science. From programming languages like Python and R to powerful libraries and cloud-based platforms, we will explore the essential components that make up the data science ecosystem. \n"
   ]
  },
  {
   "cell_type": "markdown",
   "metadata": {
    "tags": []
   },
   "source": [
    "# Objectives:\n",
    "\n",
    "- List popular languages for Data Science\n",
    "- Understand the basics of Jupyter Notebooks\n",
    "- Convert units like minutes to hours\n",
    "- Create Markdown cells for formatting text\n",
    "- Create Code cells for writing and executing code"
   ]
  },
  {
   "cell_type": "markdown",
   "metadata": {},
   "source": [
    "Some of the popular languages that Data Scientists use are:\n",
    "\n",
    "1. **Python**: Widely used for its simplicity and extensive library support for data analysis, visualization, and machine learning.\n",
    "2. **R**: A language and environment specifically designed for statistical computing and graphics, making it ideal for data analysis and visualization.\n",
    "3. **SQL**: Essential for managing and querying data in relational databases, often used for data manipulation and extraction.\n",
    "4. **Julia**: Known for its high performance and efficiency in numerical and computational tasks, making it a good choice for large-scale data processing.\n",
    "5. **Scala**: Often used with Apache Spark for big data processing due to its scalability and functional programming capabilities.\n"
   ]
  },
  {
   "cell_type": "markdown",
   "metadata": {},
   "source": [
    "Some of the commonly used libraries used by Data Scientists include:\n",
    "\n",
    "1. **Pandas**: A powerful library for data manipulation and analysis, providing data structures like DataFrames for handling large datasets.\n",
    "2. **NumPy**: Essential for numerical computations, it supports multi-dimensional arrays and matrices, along with a collection of mathematical functions.\n",
    "3. **Matplotlib**: A widely used plotting library for creating static, interactive, and animated visualizations in Python.\n",
    "4. **SciPy**: Built on NumPy, it offers a variety of algorithms for optimization, integration, interpolation, eigenvalue problems, and other advanced mathematical operations.\n",
    "5. **Scikit-learn**: A machine learning library that provides simple and efficient tools for data mining, data analysis, and building machine learning models.\n",
    "6. **TensorFlow**: An open-source platform for machine learning and deep learning, widely used for developing and training neural networks.\n",
    "7. **Keras**: A high-level neural networks API, written in Python, capable of running on top of TensorFlow and other frameworks for easy and fast prototyping.\n"
   ]
  },
  {
   "cell_type": "markdown",
   "metadata": {},
   "source": [
    "| Data Science Tools          |\n",
    "|-----------------------------|\n",
    "| Jupyter Notebook            |\n",
    "| RStudio                     |\n",
    "| Apache Zeppelin             |\n"
   ]
  },
  {
   "cell_type": "markdown",
   "metadata": {
    "tags": []
   },
   "source": [
    "| Data Science Tools          |\n",
    "|-----------------------------|\n",
    "| Jupyter Notebook            |\n",
    "| RStudio                     |\n",
    "| Apache Zeppelin             |\n"
   ]
  },
  {
   "cell_type": "markdown",
   "metadata": {
    "tags": []
   },
   "source": [
    "### Below are a few examples of evaluating arithmetic expressions in Python.\n",
    "Addition: a+b\n",
    "Subtraction: a-b\n",
    "Multiplication:a*b\n",
    "Division: a/b\n",
    "Modulus: %\n",
    "Integer Division: a//b"
   ]
  },
  {
   "cell_type": "markdown",
   "metadata": {
    "tags": []
   },
   "source": [
    "\n",
    "  ### Below are a few examples of evaluating arithmetic expressions in Python.\n",
    "Addition: a+b\n",
    "Subtraction: a-b\n",
    "Multiplication:a*b\n",
    "Division: a/b\n",
    "Modulus: %\n",
    "Integer Division: a//b\n",
    " "
   ]
  },
  {
   "cell_type": "code",
   "execution_count": 1,
   "metadata": {
    "tags": []
   },
   "outputs": [
    {
     "data": {
      "text/plain": [
       "17"
      ]
     },
     "execution_count": 1,
     "metadata": {},
     "output_type": "execute_result"
    }
   ],
   "source": [
    "# This is a simple arithmetic expression to multiply then add integers\n",
    "(3 * 4) + 5"
   ]
  },
  {
   "cell_type": "code",
   "execution_count": 2,
   "metadata": {
    "tags": []
   },
   "outputs": [
    {
     "data": {
      "text/plain": [
       "3.3333333333333335"
      ]
     },
     "execution_count": 2,
     "metadata": {},
     "output_type": "execute_result"
    }
   ],
   "source": [
    "# This will convert 200 minutes to hours by dividing by 60\n",
    "200 / 60"
   ]
  },
  {
   "cell_type": "code",
   "execution_count": null,
   "metadata": {},
   "outputs": [],
   "source": []
  }
 ],
 "metadata": {
  "kernelspec": {
   "display_name": "Python",
   "language": "python",
   "name": "conda-env-python-py"
  },
  "language_info": {
   "codemirror_mode": {
    "name": "ipython",
    "version": 3
   },
   "file_extension": ".py",
   "mimetype": "text/x-python",
   "name": "python",
   "nbconvert_exporter": "python",
   "pygments_lexer": "ipython3",
   "version": "3.7.12"
  }
 },
 "nbformat": 4,
 "nbformat_minor": 4
}
